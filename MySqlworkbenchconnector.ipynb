{
 "cells": [
  {
   "cell_type": "code",
   "execution_count": 1,
   "id": "4ed702e7-5d94-4f1b-a4b0-7666a62dfe4f",
   "metadata": {},
   "outputs": [],
   "source": [
    "import mysql.connector as connector"
   ]
  },
  {
   "cell_type": "code",
   "execution_count": 14,
   "id": "804a76ef-d493-4a71-8539-2b6b207160c8",
   "metadata": {},
   "outputs": [],
   "source": [
    "connection = connector.connect(\n",
    "  host=\"127.0.0.1\",\n",
    "  user=\"admin1\",\n",
    "  password=\"EskiSiva100\",\n",
    "  database=\"littlelemondm\",\n",
    "  auth_plugin = \"mysql_native_password\"\n",
    ")"
   ]
  },
  {
   "cell_type": "code",
   "execution_count": 15,
   "id": "8351f2d6-d96c-47ce-8f1b-1ee595e72988",
   "metadata": {},
   "outputs": [],
   "source": [
    "cursor = connection.cursor()"
   ]
  },
  {
   "cell_type": "code",
   "execution_count": 16,
   "id": "3605b733-a94c-417e-ae86-44eb2ef97762",
   "metadata": {},
   "outputs": [],
   "source": [
    "query = \"show databases\""
   ]
  },
  {
   "cell_type": "code",
   "execution_count": 17,
   "id": "77abac7b-919e-43e8-a0af-551974400274",
   "metadata": {},
   "outputs": [],
   "source": [
    "cursor.execute(query)"
   ]
  },
  {
   "cell_type": "code",
   "execution_count": 20,
   "id": "9e2b1791-f073-42f1-9cdb-40efb27b81a9",
   "metadata": {},
   "outputs": [],
   "source": [
    "results = cursor.fetchall()"
   ]
  },
  {
   "cell_type": "code",
   "execution_count": 21,
   "id": "de5a91a4-a3c3-4e6b-bd49-518e78e965de",
   "metadata": {},
   "outputs": [
    {
     "name": "stdout",
     "output_type": "stream",
     "text": [
      "[('esaki12',), ('global_super_store',), ('information_schema',), ('little_lemon',), ('littlelemondm',), ('mangata_gallo',), ('mg_schema',), ('mysql',), ('performance_schema',), ('sakila',), ('sys',), ('world',)]\n"
     ]
    }
   ],
   "source": [
    "print (results)"
   ]
  },
  {
   "cell_type": "code",
   "execution_count": 22,
   "id": "e2a45312-c67c-47f8-8c38-aa761666a9eb",
   "metadata": {},
   "outputs": [
    {
     "name": "stdout",
     "output_type": "stream",
     "text": [
      "The database littlelemondm is set for use\n"
     ]
    }
   ],
   "source": [
    "cursor.execute(\"USE littlelemondm\")\n",
    "connection.database\n",
    "print(\"The database littlelemondm is set for use\")"
   ]
  },
  {
   "cell_type": "code",
   "execution_count": 23,
   "id": "14eb7d55-8919-4145-abcd-0adaa6c9fad2",
   "metadata": {},
   "outputs": [
    {
     "name": "stdout",
     "output_type": "stream",
     "text": [
      "('Tables_in_littlelemondm',)\n",
      "('bookings',)\n",
      "('customer',)\n",
      "('delivery',)\n",
      "('menu',)\n",
      "('menuitems',)\n",
      "('orders',)\n",
      "('ordersview',)\n",
      "('ordersview1',)\n",
      "('ordersview2',)\n",
      "('ordersview3',)\n",
      "('ordersview4',)\n",
      "('ordersview5',)\n",
      "('staff',)\n"
     ]
    }
   ],
   "source": [
    "show_tables_query = \"SHOW TABLES;\"\n",
    "cursor.execute(show_tables_query)\n",
    "results = cursor.fetchall()\n",
    "columns = cursor.column_names\n",
    "print(columns)\n",
    "for result in results:\n",
    "    print(result)"
   ]
  },
  {
   "cell_type": "code",
   "execution_count": 24,
   "id": "cd5336bb-9c30-45c2-8788-704a3b138d08",
   "metadata": {},
   "outputs": [],
   "source": [
    "join_query = \"\"\" SELECT Customer.FullName,\n",
    "Customer.ContactNumber,\n",
    "Customer.Email,\n",
    "Orders.TotalCost\n",
    "FROM Customer\n",
    "LEFT JOIN Orders\n",
    "ON Customer.CustomerID = Orders.CustomerID\n",
    "WHERE Orders.TotalCost > 60;\n",
    "\"\"\""
   ]
  },
  {
   "cell_type": "code",
   "execution_count": 25,
   "id": "a263aeb0-752d-4af0-8e12-5ea4172d917a",
   "metadata": {},
   "outputs": [],
   "source": [
    "cursor.execute(join_query)"
   ]
  },
  {
   "cell_type": "code",
   "execution_count": 26,
   "id": "c1e3d753-12b3-4112-8139-03ec91a7ce31",
   "metadata": {},
   "outputs": [],
   "source": [
    "results = cursor.fetchall()"
   ]
  },
  {
   "cell_type": "code",
   "execution_count": 27,
   "id": "573cd7b3-9680-457f-bc47-f48d46bfb828",
   "metadata": {},
   "outputs": [],
   "source": [
    "columns=cursor.column_names"
   ]
  },
  {
   "cell_type": "code",
   "execution_count": 28,
   "id": "aa95b6de-65d4-4d2c-aeb7-c6ccbfed8b69",
   "metadata": {},
   "outputs": [
    {
     "name": "stdout",
     "output_type": "stream",
     "text": [
      "('FullName', 'ContactNumber', 'Email', 'TotalCost')\n",
      "('Alice Johnson', '5551234567', 'alice@gmail.com', Decimal('180.50'))\n",
      "('Eva Brown', '4447771111', 'eve@gmail.com', Decimal('120.75'))\n",
      "('Daniel White', '9998887777', 'daniel@gmail.com', Decimal('200.25'))\n",
      "('John Doe', '1234567890', 'john@gmail.com', Decimal('175.00'))\n",
      "('Olivia Miller', '7775559999', 'olivia@gmail.com', Decimal('152.75'))\n",
      "('Jane Smith', '9876543210', 'jane@gmail.com', Decimal('165.50'))\n",
      "('Bob Williams', '8889990000', 'bob@gmail.com', Decimal('185.75'))\n",
      "('Charlie Davis', '2223334444', 'charlie@gmail.com', Decimal('160.00'))\n",
      "('Liam Taylor', '4446668888', 'liam@gmail.com', Decimal('210.30'))\n"
     ]
    }
   ],
   "source": [
    "print(columns)\n",
    "for result in results:\n",
    "    print(result)"
   ]
  },
  {
   "cell_type": "code",
   "execution_count": 29,
   "id": "7b9f7ade-6543-4a93-af6e-5722142ce8ef",
   "metadata": {},
   "outputs": [
    {
     "name": "stdout",
     "output_type": "stream",
     "text": [
      "The cursor is closed.\n",
      "MySQL connection is closed.\n"
     ]
    }
   ],
   "source": [
    "if connection.is_connected():\n",
    "    cursor.close()\n",
    "    print(\"The cursor is closed.\")\n",
    "    connection.close()\n",
    "    print(\"MySQL connection is closed.\")\n",
    "else:\n",
    "    print(\"Connection is already closed\")\n"
   ]
  },
  {
   "cell_type": "code",
   "execution_count": null,
   "id": "3228c736-b63e-4d6b-8187-05008ed057fe",
   "metadata": {},
   "outputs": [],
   "source": []
  }
 ],
 "metadata": {
  "kernelspec": {
   "display_name": "Python 3 (ipykernel)",
   "language": "python",
   "name": "python3"
  },
  "language_info": {
   "codemirror_mode": {
    "name": "ipython",
    "version": 3
   },
   "file_extension": ".py",
   "mimetype": "text/x-python",
   "name": "python",
   "nbconvert_exporter": "python",
   "pygments_lexer": "ipython3",
   "version": "3.12.5"
  }
 },
 "nbformat": 4,
 "nbformat_minor": 5
}
